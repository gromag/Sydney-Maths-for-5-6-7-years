{
 "metadata": {
  "language_info": {
   "codemirror_mode": {
    "name": "ipython",
    "version": 3
   },
   "file_extension": ".py",
   "mimetype": "text/x-python",
   "name": "python",
   "nbconvert_exporter": "python",
   "pygments_lexer": "ipython3",
   "version": "3.6.8-final"
  },
  "orig_nbformat": 2,
  "kernelspec": {
   "name": "python3",
   "display_name": "Python 3",
   "language": "python"
  }
 },
 "nbformat": 4,
 "nbformat_minor": 2,
 "cells": [
  {
   "source": [
    "# Sydney How Long She Took"
   ],
   "cell_type": "markdown",
   "metadata": {}
  },
  {
   "cell_type": "code",
   "execution_count": 1,
   "metadata": {},
   "outputs": [],
   "source": [
    "def calculate_how_long_sydney_took_to_do_each_question(minutes, seconds, how_many_questions): \n",
    "    min_to_sec = minutes * 60 \n",
    "    total_s = min_to_sec + seconds \n",
    "    time_per_question = total_s / how_many_questions \n",
    "    return f'The average time Sydney took to answer one question was {time_per_question} seconds' "
   ]
  },
  {
   "source": [
    "## 22nd December 2020"
   ],
   "cell_type": "markdown",
   "metadata": {}
  },
  {
   "cell_type": "code",
   "execution_count": 3,
   "metadata": {},
   "outputs": [
    {
     "output_type": "execute_result",
     "data": {
      "text/plain": [
       "'The average time Sydney took to answer one question was 25.0625 seconds'"
      ]
     },
     "metadata": {},
     "execution_count": 3
    }
   ],
   "source": [
    "calculate_how_long_sydney_took_to_do_each_question(6, 41, 16)"
   ]
  },
  {
   "source": [
    "## 23rd December 2020"
   ],
   "cell_type": "markdown",
   "metadata": {}
  },
  {
   "cell_type": "code",
   "execution_count": 4,
   "metadata": {},
   "outputs": [
    {
     "output_type": "execute_result",
     "data": {
      "text/plain": [
       "'The average time Sydney took to answer one question was 5.933333333333334 seconds'"
      ]
     },
     "metadata": {},
     "execution_count": 4
    }
   ],
   "source": [
    "calculate_how_long_sydney_took_to_do_each_question(1, 29, 15)"
   ]
  },
  {
   "cell_type": "code",
   "execution_count": null,
   "metadata": {},
   "outputs": [],
   "source": []
  }
 ]
}